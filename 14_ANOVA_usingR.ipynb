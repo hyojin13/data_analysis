{
  "nbformat": 4,
  "nbformat_minor": 0,
  "metadata": {
    "colab": {
      "provenance": [],
      "include_colab_link": true
    },
    "kernelspec": {
      "name": "python3",
      "display_name": "Python 3"
    },
    "language_info": {
      "name": "python"
    }
  },
  "cells": [
    {
      "cell_type": "markdown",
      "metadata": {
        "id": "view-in-github",
        "colab_type": "text"
      },
      "source": [
        "<a href=\"https://colab.research.google.com/github/hyojin13/data_analysis/blob/main/14_ANOVA_usingR.ipynb\" target=\"_parent\"><img src=\"https://colab.research.google.com/assets/colab-badge.svg\" alt=\"Open In Colab\"/></a>"
      ]
    },
    {
      "cell_type": "markdown",
      "source": [
        "How to run R within Python?\n",
        "\n",
        "1. R within Python by leveraging the rpy2 library, which provides a bridge to run R code and use R libraries from within Python.\n",
        "\n",
        "2. Steps to set up R and its necessary packages\n",
        "    \n",
        "    \n",
        "    %% Ensure R is installed on your system. You can download it from the CRAN website.\n",
        "  \n",
        "\n",
        " - [**Download R CRAN Mirrors**](https://cran.yu.ac.kr/)\n",
        "\n",
        "\n"
      ],
      "metadata": {
        "id": "uVEj7wevitA5"
      }
    },
    {
      "cell_type": "markdown",
      "source": [
        "Install any necessary R packages you intend to use.\n",
        "\n",
        "1. Base R Packages:\n",
        "  \n",
        "  **stats:** This comes with the base R installation and includes functions for ANOVA and GLM.\n",
        ">\n",
        "2. Additional R Packages:\n",
        "\n",
        "    i) **car:** Companion to Applied Regression, useful for more advanced ANOVA methods and diagnostic tests\n",
        "    >\n",
        "    ii) **multcomp:** Tools for multiple comparisons (post-hoc tests)\n",
        "    >\n",
        "    iii) **emmeans:** Estimated marginal means (EMMs), also known as least-squares means, for various model objects.\n",
        "    >\n",
        "    iv) **ggplot2:** For creating enhanced visualizations.\n",
        "\n",
        "Steps to Install and Load the Necessary R Packages\n",
        "Open an R Session:\n",
        "\n",
        "Use the install.packages() function to install the necessary packages."
      ],
      "metadata": {
        "id": "LfgmoUVUhCxR"
      }
    },
    {
      "cell_type": "markdown",
      "source": [
        "## 🚘 **Directly in an R Environment**\n",
        "When working directly in R, you type the commands into your R console or R script.\n",
        "\n",
        "# 💊 <font color = 'red'> **WARNING</font>**\n",
        "\n",
        "**Check for Special Characters:** Ensure there are **non-ASCII** characters in your command. Sometimes, copying and pasting code from different sources can introduce hidden characters.\n",
        "\n",
        "How to interpret the **aov()** function:\n",
        "\n",
        "- Format: (dependent variable name ~ independent variable name, data = data frame in use)\n",
        "\n",
        "- It is performing an analysis of variance to see how the dependent variable is affected by the independent variable, using the data stored in the data frame dt.\n",
        ">\n",
        "\n",
        "### **Some symbols in R useful to know:**\n",
        "\n",
        "the **~** symbol: It is essential for defining relationships between variables in statistical models. The model formula indicates that dependent/response variable is being modeled as a function of the independent/factor variable\n",
        "\n",
        "the **$** symbol: To extract components of a list or data frame.\n",
        "\n",
        ">\n",
        "\n",
        "# [**R script base for one-way ANOVA**](https://raw.githubusercontent.com/ms624atyale/Data_Misc/main/R_scriptBase4_one_way_ANOVA.txt)\n"
      ],
      "metadata": {
        "id": "Ti9Iz9PJlTXQ"
      }
    },
    {
      "cell_type": "markdown",
      "source": [
        "## 🚗 **Run R code from within Python:**\n",
        "\n",
        "Within Python using rpy2: Use Python to interface with R, running install.packages() and library() through rpy2 to execute R commands.\n",
        "\n",
        "🐹 🐾 <font color = 'green'>_If you are primarily working in R, use the direct method._</font> If you prefer Python or need to integrate R code within a larger Python project, use the rpy2 approach, <font color = 'red'>_**which is not recommended**_...\n",
        "\n",
        "### The pipeline of using R within Python is as follows:\n",
        "1. Install and import necessary packages and modules, and call necessary functions.  \n",
        "\n",
        "2. Read csv file for analysis.\n",
        "\n",
        "3. Convert the pandas DataFrame to an R dataframe\n",
        "\n",
        "4. Assign the R dataframe to the R environment\n",
        "\n",
        "5. Perform one-way ANOVA in R within Python"
      ],
      "metadata": {
        "id": "Yz5Boxwblemp"
      }
    },
    {
      "cell_type": "code",
      "source": [
        "#Example ANOVA for analysis\n",
        "\n",
        "!pip install rpy2\n",
        "import rpy2.robjects as robjects\n",
        "from rpy2.robjects import pandas2ri\n",
        "import pandas as pd\n",
        "\n",
        "# Activate the pandas2ri conversion\n",
        "pandas2ri.activate()\n",
        "\n",
        "# Function to install R packages\n",
        "def install_r_package(package_name):\n",
        "    try:\n",
        "        robjects.r(f'install.packages(\"{package_name}\")')\n",
        "    except Exception as e:\n",
        "        print(f\"An error occurred: {e}\")\n",
        "\n",
        "# Install necessary packages\n",
        "install_r_package('car')\n",
        "\n",
        "# Load necessary libraries\n",
        "robjects.r('library(car)')\n",
        "\n",
        "# Load the CSV file into a pandas DataFrame\n",
        "file_path = '/content/sample_data/korean_stops_vot.csv'\n",
        "\n",
        "df = pd.read_csv(file_path)\n",
        "\n",
        "# Convert the pandas DataFrame to an R dataframe\n",
        "r_df = pandas2ri.DataFrame(df)\n",
        "\n",
        "# 2. Assign the R dataframe to the R environment\n",
        "robjects.globalenv['data'] = r_df\n",
        "\n",
        "\n",
        "# 3. Perform one-way ANOVA in R\n",
        "anova_result = robjects.r('anova_result <- aov(vot ~ stops, data = data)')\n",
        "summary_result = robjects.r('summary(anova_result)')\n",
        "print(summary_result)"
      ],
      "metadata": {
        "colab": {
          "base_uri": "https://localhost:8080/"
        },
        "collapsed": true,
        "id": "z-4_NBaG9VqD",
        "outputId": "ac7fec42-d01b-4c1f-ef9e-21a8509b904b"
      },
      "execution_count": null,
      "outputs": [
        {
          "output_type": "stream",
          "name": "stdout",
          "text": [
            "Requirement already satisfied: rpy2 in /usr/local/lib/python3.10/dist-packages (3.4.2)\n",
            "Requirement already satisfied: cffi>=1.10.0 in /usr/local/lib/python3.10/dist-packages (from rpy2) (1.16.0)\n",
            "Requirement already satisfied: jinja2 in /usr/local/lib/python3.10/dist-packages (from rpy2) (3.1.4)\n",
            "Requirement already satisfied: pytz in /usr/local/lib/python3.10/dist-packages (from rpy2) (2023.4)\n",
            "Requirement already satisfied: tzlocal in /usr/local/lib/python3.10/dist-packages (from rpy2) (5.2)\n",
            "Requirement already satisfied: pycparser in /usr/local/lib/python3.10/dist-packages (from cffi>=1.10.0->rpy2) (2.22)\n",
            "Requirement already satisfied: MarkupSafe>=2.0 in /usr/local/lib/python3.10/dist-packages (from jinja2->rpy2) (2.1.5)\n"
          ]
        },
        {
          "output_type": "stream",
          "name": "stderr",
          "text": [
            "WARNING:rpy2.rinterface_lib.callbacks:R[write to console]: Installing package into ‘/usr/local/lib/R/site-library’\n",
            "(as ‘lib’ is unspecified)\n",
            "\n",
            "WARNING:rpy2.rinterface_lib.callbacks:R[write to console]: trying URL 'https://cran.rstudio.com/src/contrib/car_3.1-2.tar.gz'\n",
            "\n",
            "WARNING:rpy2.rinterface_lib.callbacks:R[write to console]: Content type 'application/x-gzip'\n",
            "WARNING:rpy2.rinterface_lib.callbacks:R[write to console]:  length 579829 bytes (566 KB)\n",
            "\n",
            "WARNING:rpy2.rinterface_lib.callbacks:R[write to console]: =\n",
            "WARNING:rpy2.rinterface_lib.callbacks:R[write to console]: =\n",
            "WARNING:rpy2.rinterface_lib.callbacks:R[write to console]: =\n",
            "WARNING:rpy2.rinterface_lib.callbacks:R[write to console]: =\n",
            "WARNING:rpy2.rinterface_lib.callbacks:R[write to console]: =\n",
            "WARNING:rpy2.rinterface_lib.callbacks:R[write to console]: =\n",
            "WARNING:rpy2.rinterface_lib.callbacks:R[write to console]: =\n",
            "WARNING:rpy2.rinterface_lib.callbacks:R[write to console]: =\n",
            "WARNING:rpy2.rinterface_lib.callbacks:R[write to console]: =\n",
            "WARNING:rpy2.rinterface_lib.callbacks:R[write to console]: =\n",
            "WARNING:rpy2.rinterface_lib.callbacks:R[write to console]: =\n",
            "WARNING:rpy2.rinterface_lib.callbacks:R[write to console]: =\n",
            "WARNING:rpy2.rinterface_lib.callbacks:R[write to console]: =\n",
            "WARNING:rpy2.rinterface_lib.callbacks:R[write to console]: =\n",
            "WARNING:rpy2.rinterface_lib.callbacks:R[write to console]: =\n",
            "WARNING:rpy2.rinterface_lib.callbacks:R[write to console]: =\n",
            "WARNING:rpy2.rinterface_lib.callbacks:R[write to console]: =\n",
            "WARNING:rpy2.rinterface_lib.callbacks:R[write to console]: =\n",
            "WARNING:rpy2.rinterface_lib.callbacks:R[write to console]: =\n",
            "WARNING:rpy2.rinterface_lib.callbacks:R[write to console]: =\n",
            "WARNING:rpy2.rinterface_lib.callbacks:R[write to console]: =\n",
            "WARNING:rpy2.rinterface_lib.callbacks:R[write to console]: =\n",
            "WARNING:rpy2.rinterface_lib.callbacks:R[write to console]: =\n",
            "WARNING:rpy2.rinterface_lib.callbacks:R[write to console]: =\n",
            "WARNING:rpy2.rinterface_lib.callbacks:R[write to console]: =\n",
            "WARNING:rpy2.rinterface_lib.callbacks:R[write to console]: =\n",
            "WARNING:rpy2.rinterface_lib.callbacks:R[write to console]: =\n",
            "WARNING:rpy2.rinterface_lib.callbacks:R[write to console]: =\n",
            "WARNING:rpy2.rinterface_lib.callbacks:R[write to console]: =\n",
            "WARNING:rpy2.rinterface_lib.callbacks:R[write to console]: =\n",
            "WARNING:rpy2.rinterface_lib.callbacks:R[write to console]: =\n",
            "WARNING:rpy2.rinterface_lib.callbacks:R[write to console]: =\n",
            "WARNING:rpy2.rinterface_lib.callbacks:R[write to console]: =\n",
            "WARNING:rpy2.rinterface_lib.callbacks:R[write to console]: =\n",
            "WARNING:rpy2.rinterface_lib.callbacks:R[write to console]: =\n",
            "WARNING:rpy2.rinterface_lib.callbacks:R[write to console]: =\n",
            "WARNING:rpy2.rinterface_lib.callbacks:R[write to console]: =\n",
            "WARNING:rpy2.rinterface_lib.callbacks:R[write to console]: =\n",
            "WARNING:rpy2.rinterface_lib.callbacks:R[write to console]: =\n",
            "WARNING:rpy2.rinterface_lib.callbacks:R[write to console]: =\n",
            "WARNING:rpy2.rinterface_lib.callbacks:R[write to console]: =\n",
            "WARNING:rpy2.rinterface_lib.callbacks:R[write to console]: =\n",
            "WARNING:rpy2.rinterface_lib.callbacks:R[write to console]: =\n",
            "WARNING:rpy2.rinterface_lib.callbacks:R[write to console]: =\n",
            "WARNING:rpy2.rinterface_lib.callbacks:R[write to console]: =\n",
            "WARNING:rpy2.rinterface_lib.callbacks:R[write to console]: =\n",
            "WARNING:rpy2.rinterface_lib.callbacks:R[write to console]: =\n",
            "WARNING:rpy2.rinterface_lib.callbacks:R[write to console]: =\n",
            "WARNING:rpy2.rinterface_lib.callbacks:R[write to console]: =\n",
            "WARNING:rpy2.rinterface_lib.callbacks:R[write to console]: =\n",
            "WARNING:rpy2.rinterface_lib.callbacks:R[write to console]: \n",
            "\n",
            "WARNING:rpy2.rinterface_lib.callbacks:R[write to console]: downloaded 566 KB\n",
            "\n",
            "\n",
            "WARNING:rpy2.rinterface_lib.callbacks:R[write to console]: \n",
            "\n",
            "WARNING:rpy2.rinterface_lib.callbacks:R[write to console]: \n",
            "WARNING:rpy2.rinterface_lib.callbacks:R[write to console]: The downloaded source packages are in\n",
            "\t‘/tmp/Rtmp654QeK/downloaded_packages’\n",
            "WARNING:rpy2.rinterface_lib.callbacks:R[write to console]: \n",
            "WARNING:rpy2.rinterface_lib.callbacks:R[write to console]: \n",
            "\n"
          ]
        },
        {
          "output_type": "stream",
          "name": "stdout",
          "text": [
            "            Df Sum Sq Mean Sq F value Pr(>F)    \n",
            "stops        2  65535   32768   478.7 <2e-16 ***\n",
            "Residuals   87   5955      68                   \n",
            "---\n",
            "Signif. codes:  0 ‘***’ 0.001 ‘**’ 0.01 ‘*’ 0.05 ‘.’ 0.1 ‘ ’ 1\n",
            "\n"
          ]
        }
      ]
    }
  ]
}