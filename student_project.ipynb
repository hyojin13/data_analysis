{
  "nbformat": 4,
  "nbformat_minor": 0,
  "metadata": {
    "colab": {
      "provenance": [],
      "authorship_tag": "ABX9TyP+NsMH4hNlhn/1FvxtwtNH",
      "include_colab_link": true
    },
    "kernelspec": {
      "name": "python3",
      "display_name": "Python 3"
    },
    "language_info": {
      "name": "python"
    }
  },
  "cells": [
    {
      "cell_type": "markdown",
      "metadata": {
        "id": "view-in-github",
        "colab_type": "text"
      },
      "source": [
        "<a href=\"https://colab.research.google.com/github/hyojin13/data_analysis/blob/main/student_project.ipynb\" target=\"_parent\"><img src=\"https://colab.research.google.com/assets/colab-badge.svg\" alt=\"Open In Colab\"/></a>"
      ]
    },
    {
      "cell_type": "code",
      "execution_count": null,
      "metadata": {
        "id": "JQgzRQIYQuSW"
      },
      "outputs": [],
      "source": [
        "import pandas as pd\n",
        "import numpy as np\n",
        "import seaborn as sns\n",
        "from scipy.stats import ttest_ind\n",
        "import matplotlib.pyplot as plt\n",
        "\n",
        "data = {\"ID\": range(1, 101), \"Social_Media_Hours\": np.random.randint(1, 8, 100), \"Sleep_Quality\": np.random.normal(6, 1.5, 100)}\n",
        "df = pd.DataFrame(data)\n",
        "df['Usage_Group'] = np.where(df['Social_Media_Hours'] > 3, 'More than 3 hours', '3 hours or less')\n",
        "df.to_csv(\"social_media_sleep_quality.csv\", index=False)\n",
        "\n",
        "df = pd.read_csv(\"social_media_sleep_quality.csv\")\n",
        "group1 = df[df['Usage_Group'] == '3 hours or less']['Sleep_Quality']\n",
        "group2 = df[df['Usage_Group'] == 'More than 3 hours']['Sleep_Quality']\n",
        "\n",
        "t_stat, p_value = ttest_ind(group1, group2)\n",
        "print(f\"t-test result: t-statistic = {t_stat}, p-value = {p_value}\")\n",
        "\n",
        "alpha = 0.05\n",
        "if p_value < alpha:\n",
        "    print(\"Reject null hypothesis. There is a significant difference in sleep quality based on social media usage time.\")\n",
        "else:\n",
        "    print(\"Fail to reject null hypothesis. There is no significant difference in sleep quality based on social media usage time.\")\n",
        "\n",
        "\n",
        "plt.figure(figsize=(10, 6))\n",
        "sns.scatterplot(x='Social_Media_Hours', y='Sleep_Quality', hue='Usage_Group', data=df, palette=['blue', 'red'])\n",
        "\n",
        "plt.title('Relationship Between Social Media Usage Time and Sleep Quality')\n",
        "plt.xlabel('Social Media Usage Time (hours)')\n",
        "plt.ylabel('Sleep Quality')\n",
        "plt.legend()\n",
        "plt.show()"
      ]
    }
  ]
}